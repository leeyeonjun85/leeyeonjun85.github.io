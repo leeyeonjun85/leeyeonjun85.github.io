{
 "cells": [
  {
   "cell_type": "markdown",
   "metadata": {},
   "source": [
    "# Python OCR\n",
    "- 파이썬에서 사용되는 OCR 라이브러리들 테스트 하기\n",
    "\n",
    "## OCR 라이브러리\n",
    "> - paddleocr\n",
    "> - pytesseract\n",
    "> - CRAFT"
   ]
  },
  {
   "cell_type": "markdown",
   "metadata": {},
   "source": [
    "## CRAFT\n",
    "https://github.com/clovaai/CRAFT-pytorch/blob/master/test.py\n",
    "\n"
   ]
  },
  {
   "cell_type": "code",
   "execution_count": 3,
   "metadata": {},
   "outputs": [],
   "source": [
    "import sqlite3\n",
    "import json\n",
    "import time\n",
    "import re\n",
    "from uuid import getnode\n",
    "import socket\n",
    "import io\n",
    "import os\n",
    "import cv2\n",
    "import base64\n",
    "import numpy as np\n",
    "from PIL import Image\n",
    "from paddleocr import PaddleOCR, draw_ocr\n",
    "from matplotlib import pyplot as plt\n",
    "import pandas as pd"
   ]
  },
  {
   "cell_type": "code",
   "execution_count": 4,
   "metadata": {},
   "outputs": [
    {
     "data": {
      "text/plain": [
       "'c:\\\\leeyeonjun\\\\gitRepository\\\\leeyeonjun85.github.io.git\\\\assets\\\\source\\\\CRAFT-pytorch-master'"
      ]
     },
     "execution_count": 4,
     "metadata": {},
     "output_type": "execute_result"
    }
   ],
   "source": [
    "os.getcwd()"
   ]
  },
  {
   "cell_type": "code",
   "execution_count": 1,
   "metadata": {},
   "outputs": [
    {
     "name": "stderr",
     "output_type": "stream",
     "text": [
      "c:\\Users\\uurang\\.conda\\envs\\UU3\\lib\\site-packages\\tqdm\\auto.py:21: TqdmWarning: IProgress not found. Please update jupyter and ipywidgets. See https://ipywidgets.readthedocs.io/en/stable/user_install.html\n",
      "  from .autonotebook import tqdm as notebook_tqdm\n"
     ]
    }
   ],
   "source": [
    "import sys\n",
    "import os\n",
    "import time\n",
    "import argparse\n",
    "\n",
    "import torch\n",
    "import torch.nn as nn\n",
    "import torch.backends.cudnn as cudnn\n",
    "from torch.autograd import Variable\n",
    "\n",
    "from PIL import Image\n",
    "\n",
    "import cv2\n",
    "from skimage import io\n",
    "import numpy as np\n",
    "import craft_utils\n",
    "import imgproc\n",
    "import file_utils\n",
    "import json\n",
    "import zipfile\n",
    "from collections import OrderedDict\n",
    "from craft import CRAFT"
   ]
  },
  {
   "cell_type": "code",
   "execution_count": 2,
   "metadata": {},
   "outputs": [
    {
     "name": "stderr",
     "output_type": "stream",
     "text": [
      "c:\\Users\\uurang\\.conda\\envs\\UU3\\lib\\site-packages\\torchvision\\models\\_utils.py:252: UserWarning: Accessing the model URLs via the internal dictionary of the module is deprecated since 0.13 and will be removed in 0.15. Please access them via the appropriate Weights Enum instead.\n",
      "  warnings.warn(\n",
      "c:\\Users\\uurang\\.conda\\envs\\UU3\\lib\\site-packages\\torchvision\\models\\_utils.py:208: UserWarning: The parameter 'pretrained' is deprecated since 0.13 and will be removed in 0.15, please use 'weights' instead.\n",
      "  warnings.warn(\n",
      "c:\\Users\\uurang\\.conda\\envs\\UU3\\lib\\site-packages\\torchvision\\models\\_utils.py:223: UserWarning: Arguments other than a weight enum or `None` for 'weights' are deprecated since 0.13 and will be removed in 0.15. The current behavior is equivalent to passing `weights=None`.\n",
      "  warnings.warn(msg)\n"
     ]
    }
   ],
   "source": [
    "def copyStateDict(state_dict):\n",
    "    if list(state_dict.keys())[0].startswith(\"module\"):\n",
    "        start_idx = 1\n",
    "    else:\n",
    "        start_idx = 0\n",
    "    new_state_dict = OrderedDict()\n",
    "    for k, v in state_dict.items():\n",
    "        name = \".\".join(k.split(\".\")[start_idx:])\n",
    "        new_state_dict[name] = v\n",
    "    return new_state_dict\n",
    "\n",
    "net = CRAFT()     # initialize\n",
    "trained_model = 'C:/leeyeonjun/gitRepository/leeyeonjun85.github.io.git/assets/source/CRAFT-pytorch-master/weights/craft_mlt_25k.pth'\n",
    "net.load_state_dict(copyStateDict(torch.load(trained_model, map_location='cpu')))\n",
    "\n",
    "canvas_size = 1280\n",
    "mag_ratio = 1.5\n",
    "show_time = False\n",
    "text_threshold = 0.7\n",
    "link_threshold = 0.4\n",
    "low_text = 0.4\n",
    "cuda = False\n",
    "poly = False"
   ]
  },
  {
   "cell_type": "code",
   "execution_count": 4,
   "metadata": {},
   "outputs": [],
   "source": [
    "def get_files(img_dir):\n",
    "    imgs, masks, xmls = list_files(img_dir)\n",
    "    return imgs, masks, xmls\n",
    "\n",
    "def list_files(in_path):\n",
    "    img_files = []\n",
    "    mask_files = []\n",
    "    gt_files = []\n",
    "    for (dirpath, dirnames, filenames) in os.walk(in_path):\n",
    "        for file in filenames:\n",
    "            filename, ext = os.path.splitext(file)\n",
    "            ext = str.lower(ext)\n",
    "            if ext == '.jpg' or ext == '.jpeg' or ext == '.gif' or ext == '.png' or ext == '.pgm':\n",
    "                img_files.append(os.path.join(dirpath, file))\n",
    "            elif ext == '.bmp':\n",
    "                mask_files.append(os.path.join(dirpath, file))\n",
    "            elif ext == '.xml' or ext == '.gt' or ext == '.txt':\n",
    "                gt_files.append(os.path.join(dirpath, file))\n",
    "            elif ext == '.zip':\n",
    "                continue\n",
    "    # img_files.sort()\n",
    "    # mask_files.sort()\n",
    "    # gt_files.sort()\n",
    "    return img_files, mask_files, gt_files\n",
    "\n",
    "def test_net(net, image, text_threshold, link_threshold, low_text, cuda, poly, refine_net=None):\n",
    "    t0 = time.time()\n",
    "\n",
    "    # resize\n",
    "    img_resized, target_ratio, size_heatmap = imgproc.resize_aspect_ratio(image, canvas_size, interpolation=cv2.INTER_LINEAR, mag_ratio=mag_ratio)\n",
    "    ratio_h = ratio_w = 1 / target_ratio\n",
    "\n",
    "    # preprocessing\n",
    "    x = imgproc.normalizeMeanVariance(img_resized)\n",
    "    x = torch.from_numpy(x).permute(2, 0, 1)    # [h, w, c] to [c, h, w]\n",
    "    x = Variable(x.unsqueeze(0))                # [c, h, w] to [b, c, h, w]\n",
    "    if cuda:\n",
    "        x = x.cuda()\n",
    "\n",
    "    # forward pass\n",
    "    with torch.no_grad():\n",
    "        y, feature = net(x)\n",
    "\n",
    "    # make score and link map\n",
    "    score_text = y[0,:,:,0].cpu().data.numpy()\n",
    "    score_link = y[0,:,:,1].cpu().data.numpy()\n",
    "\n",
    "    # refine link\n",
    "    if refine_net is not None:\n",
    "        with torch.no_grad():\n",
    "            y_refiner = refine_net(y, feature)\n",
    "        score_link = y_refiner[0,:,:,0].cpu().data.numpy()\n",
    "\n",
    "    t0 = time.time() - t0\n",
    "    t1 = time.time()\n",
    "\n",
    "    # Post-processing\n",
    "    boxes, polys = craft_utils.getDetBoxes(score_text, score_link, text_threshold, link_threshold, low_text, poly)\n",
    "\n",
    "    # coordinate adjustment\n",
    "    boxes = craft_utils.adjustResultCoordinates(boxes, ratio_w, ratio_h)\n",
    "    polys = craft_utils.adjustResultCoordinates(polys, ratio_w, ratio_h)\n",
    "    for k in range(len(polys)):\n",
    "        if polys[k] is None: polys[k] = boxes[k]\n",
    "\n",
    "    t1 = time.time() - t1\n",
    "\n",
    "    # render results (optional)\n",
    "    render_img = score_text.copy()\n",
    "    render_img = np.hstack((render_img, score_link))\n",
    "    ret_score_text = imgproc.cvt2HeatmapImg(render_img)\n",
    "\n",
    "    if show_time : print(\"\\ninfer/postproc time : {:.3f}/{:.3f}\".format(t0, t1))\n",
    "\n",
    "    return boxes, polys, ret_score_text\n"
   ]
  },
  {
   "cell_type": "code",
   "execution_count": 5,
   "metadata": {},
   "outputs": [],
   "source": [
    "imgPath = 'C:/leeyeonjun/gitRepository/leeyeonjun85.github.io.git/assets/source/CRAFT-pytorch-master/img'\n",
    "image_list, _, _ = get_files(imgPath)\n",
    "result_folder = 'C:/leeyeonjun/gitRepository/leeyeonjun85.github.io.git/assets/source/CRAFT-pytorch-master/result'"
   ]
  },
  {
   "cell_type": "code",
   "execution_count": 28,
   "metadata": {},
   "outputs": [
    {
     "name": "stdout",
     "output_type": "stream",
     "text": [
      "elapsed time : 0.0sleeyeonjun/gitRepository/leeyeonjun85.github.io.git/assets/source/CRAFT-pytorch-master/img\\sqlite-sample-database-color.jpg0px.png\n"
     ]
    }
   ],
   "source": [
    "net.eval()\n",
    "\n",
    "# load data\n",
    "for k, image_path in enumerate(image_list):\n",
    "    print(\"Test image {:d}/{:d}: {:s}\".format(k+1, len(image_list), image_path), end='\\r')\n",
    "    image = imgproc.loadImage(image_path)\n",
    "\n",
    "    bboxes, polys, score_text = test_net(net, image, text_threshold, link_threshold, low_text, cuda, poly)\n",
    "\n",
    "    # save score text\n",
    "    filename, file_ext = os.path.splitext(os.path.basename(image_path))\n",
    "    mask_file = result_folder + \"/res_\" + filename + '_mask.jpg'\n",
    "    cv2.imwrite(mask_file, score_text)\n",
    "\n",
    "    file_utils.saveResult(image_path, image[:,:,::-1], polys, dirname=result_folder)\n",
    "\n",
    "print(\"elapsed time : {}s\".format(time.time() - time.time()))"
   ]
  },
  {
   "cell_type": "code",
   "execution_count": 19,
   "metadata": {},
   "outputs": [],
   "source": [
    "image_path = 'C:/leeyeonjun/gitRepository/leeyeonjun85.github.io.git/assets/source/CRAFT-pytorch-master/img/KakaoTalk_20240402_131936278.png'\n",
    "# image_path = 'C:/leeyeonjun/gitRepository/leeyeonjun85.github.io.git/assets/source/CRAFT-pytorch-master/img/testBmp1.bmp'\n",
    "image = imgproc.loadImage(image_path)\n",
    "\n",
    "bboxes, polys, score_text = test_net(net, image, text_threshold, link_threshold, low_text, cuda, poly)"
   ]
  },
  {
   "cell_type": "code",
   "execution_count": 13,
   "metadata": {},
   "outputs": [
    {
     "data": {
      "text/plain": [
       "True"
      ]
     },
     "execution_count": 13,
     "metadata": {},
     "output_type": "execute_result"
    }
   ],
   "source": [
    "filename, file_ext = os.path.splitext(os.path.basename(image_path))\n",
    "mask_file = result_folder + \"/res_\" + filename + '_mask.jpg'\n",
    "cv2.imwrite(mask_file, score_text)"
   ]
  },
  {
   "cell_type": "code",
   "execution_count": 16,
   "metadata": {},
   "outputs": [],
   "source": [
    "from paddleocr import PaddleOCR, draw_ocr\n",
    "from matplotlib import pyplot as plt"
   ]
  },
  {
   "cell_type": "code",
   "execution_count": 20,
   "metadata": {},
   "outputs": [
    {
     "data": {
      "text/plain": [
       "<matplotlib.image.AxesImage at 0x263ec37f940>"
      ]
     },
     "execution_count": 20,
     "metadata": {},
     "output_type": "execute_result"
    },
    {
     "data": {
      "image/png": "[encoded data removed]",
      "text/plain": [
       "<Figure size 640x480 with 1 Axes>"
      ]
     },
     "metadata": {},
     "output_type": "display_data"
    }
   ],
   "source": [
    "ocrImageArray = draw_ocr(image, bboxes)\n",
    "ocrImage = Image.fromarray(ocrImageArray)\n",
    "imgplot = plt.imshow(ocrImage)\n",
    "plt.imshow(ocrImage)"
   ]
  }
 ],
 "metadata": {
  "kernelspec": {
   "display_name": "p3.8",
   "language": "python",
   "name": "python3"
  },
  "language_info": {
   "codemirror_mode": {
    "name": "ipython",
    "version": 3
   },
   "file_extension": ".py",
   "mimetype": "text/x-python",
   "name": "python",
   "nbconvert_exporter": "python",
   "pygments_lexer": "ipython3",
   "version": "3.10.14"
  },
  "orig_nbformat": 4
 },
 "nbformat": 4,
 "nbformat_minor": 2
}
