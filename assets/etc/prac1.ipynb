{
 "cells": [
  {
   "cell_type": "code",
   "execution_count": 23,
   "metadata": {},
   "outputs": [],
   "source": [
    "import time\n",
    "from time import time\n",
    "from datetime import datetime"
   ]
  },
  {
   "cell_type": "code",
   "execution_count": 8,
   "metadata": {},
   "outputs": [
    {
     "name": "stdout",
     "output_type": "stream",
     "text": [
      "one\n",
      "2\n",
      "three\n",
      "3\n",
      "7\n",
      "11\n",
      "이름\n",
      "나이\n",
      "이름\n",
      "나이\n",
      "이연준\n",
      "39\n",
      "이름 이연준\n",
      "나이 39\n"
     ]
    }
   ],
   "source": [
    "# 리스트 for\n",
    "test_list = ['one', 2, 'three']\n",
    "for i in test_list: \n",
    "    print(i)\n",
    "\n",
    "# 튜플 for\n",
    "test_tup = [(1,2), (3,4), (5,6)]\n",
    "for (first, last) in test_tup:\n",
    "    print(first + last)\n",
    "\n",
    "# 딕셔너리 for\n",
    "test_dict = {\"이름\":\"이연준\", \"나이\":39}\n",
    "for val in test_dict:\n",
    "    print(val)\n",
    "for val in test_dict.keys():\n",
    "    print(val)\n",
    "for val in test_dict.values():\n",
    "    print(val)\n",
    "for key, val in test_dict.items():\n",
    "    print(key, val)"
   ]
  },
  {
   "cell_type": "code",
   "execution_count": 11,
   "metadata": {},
   "outputs": [
    {
     "name": "stdout",
     "output_type": "stream",
     "text": [
      "[0, 1, 2, 3, 4, 5, 6, 7, 8, 9]\n",
      "[0, 1, 2, 3, 4, 5, 6, 7, 8, 9]\n"
     ]
    }
   ],
   "source": [
    "# for 반복문으로 리스트 만들기\n",
    "numbers = []\n",
    "for n in range(0, 10):\n",
    "    numbers.append(n)\n",
    "print(numbers)\n",
    "\n",
    "# 리스트 컴프리헨션\n",
    "numbers = [x for x in range(10)]\n",
    "print(numbers)"
   ]
  },
  {
   "cell_type": "code",
   "execution_count": 17,
   "metadata": {},
   "outputs": [
    {
     "data": {
      "text/plain": [
       "['쌈밥을 배달 시키기! 후식은 사과~',\n",
       " '쌈밥을 가서 먹기! 후식은 사과~',\n",
       " '쌈밥을 배달 시키기! 후식은 아이스크림~',\n",
       " '쌈밥을 가서 먹기! 후식은 아이스크림~',\n",
       " '쌈밥을 배달 시키기! 후식은 커피~',\n",
       " '쌈밥을 가서 먹기! 후식은 커피~',\n",
       " '치킨을 배달 시키기! 후식은 사과~',\n",
       " '치킨을 가서 먹기! 후식은 사과~',\n",
       " '치킨을 배달 시키기! 후식은 아이스크림~',\n",
       " '치킨을 가서 먹기! 후식은 아이스크림~',\n",
       " '치킨을 배달 시키기! 후식은 커피~',\n",
       " '치킨을 가서 먹기! 후식은 커피~']"
      ]
     },
     "execution_count": 17,
     "metadata": {},
     "output_type": "execute_result"
    }
   ],
   "source": [
    "[ f\"{x}을 {z}! 후식은 {y}~\" for x in ['쌈밥', '치킨'] for y in ['사과', '아이스크림', '커피'] for z in ['배달 시키기', '가서 먹기'] ]"
   ]
  },
  {
   "cell_type": "code",
   "execution_count": 20,
   "metadata": {},
   "outputs": [],
   "source": [
    "import re\n",
    "\n",
    "charref = re.compile(r'&[#](0[0-7]+|[0-9]+|x[0-9a-fA-F]+);')\n",
    "\n",
    "charref = re.compile(r\"\"\"\n",
    " &[#]                # Start of a numeric entity reference\n",
    " (\n",
    "     0[0-7]+         # Octal form\n",
    "   | [0-9]+          # Decimal form\n",
    "   | x[0-9a-fA-F]+   # Hexadecimal form\n",
    " )\n",
    " ;                   # Trailing semicolon\n",
    "\"\"\", re.VERBOSE)"
   ]
  },
  {
   "cell_type": "code",
   "execution_count": null,
   "metadata": {},
   "outputs": [],
   "source": []
  },
  {
   "cell_type": "code",
   "execution_count": null,
   "metadata": {},
   "outputs": [],
   "source": []
  },
  {
   "cell_type": "code",
   "execution_count": null,
   "metadata": {},
   "outputs": [],
   "source": []
  },
  {
   "cell_type": "code",
   "execution_count": null,
   "metadata": {},
   "outputs": [],
   "source": []
  },
  {
   "cell_type": "code",
   "execution_count": null,
   "metadata": {},
   "outputs": [],
   "source": []
  },
  {
   "cell_type": "code",
   "execution_count": null,
   "metadata": {},
   "outputs": [],
   "source": []
  },
  {
   "cell_type": "code",
   "execution_count": null,
   "metadata": {},
   "outputs": [],
   "source": []
  },
  {
   "cell_type": "code",
   "execution_count": 32,
   "metadata": {},
   "outputs": [
    {
     "name": "stdout",
     "output_type": "stream",
     "text": [
      "한국의 현재 Unix Time : 1680794888\n",
      "한국의 현재 ISO 8601 표준시 : 2023-04-06T15:28:08Z\n"
     ]
    }
   ],
   "source": [
    "CURRENT_UNIX = int(time()) + 32400\n",
    "CONVERT_ISO = datetime.utcfromtimestamp(CURRENT_UNIX).strftime('%Y-%m-%dT%H:%M:%SZ')\n",
    "\n",
    "print(f\"한국의 현재 Unix Time : {CURRENT_UNIX}\")\n",
    "print(f\"한국의 현재 ISO 8601 표준시 : {CONVERT_ISO}\")"
   ]
  },
  {
   "cell_type": "code",
   "execution_count": 47,
   "metadata": {},
   "outputs": [],
   "source": [
    "from apscheduler.schedulers.blocking import BlockingScheduler"
   ]
  },
  {
   "cell_type": "code",
   "execution_count": null,
   "metadata": {},
   "outputs": [],
   "source": [
    "from apscheduler.schedulers.blocking import BlockingScheduler\n",
    "\n",
    "# UTC+0 기반으로 실행하려면 Timezone 에 매개변수를 선언 후 사용\n",
    "scheduler = BlockingScheduler({'apscheduler.timezone':'UTC'})\n",
    "\n",
    "# KST 기반으로 실행하는 방법\n",
    "#scheduler = BlockingScheduler({'apscheduler.timezone':'Asia/seoul'})\n",
    "\n",
    "def hello():\n",
    "    print(\"hello. My first Scheduler\")\n",
    "\n",
    "scheduler.add_job(func=hello, trigger='interval',seconds=2)\n",
    "scheduler.start()"
   ]
  },
  {
   "cell_type": "code",
   "execution_count": 52,
   "metadata": {},
   "outputs": [
    {
     "name": "stdout",
     "output_type": "stream",
     "text": [
      "4000 sqft GrLivArea를 가지는 주택의 예상 가격은 $447090 입니다.\n"
     ]
    },
    {
     "name": "stderr",
     "output_type": "stream",
     "text": [
      "c:\\Users\\leeyeonjun85\\.conda\\envs\\p3.8\\lib\\site-packages\\sklearn\\base.py:439: UserWarning: X does not have valid feature names, but LinearRegression was fitted with feature names\n",
      "  warnings.warn(\n"
     ]
    }
   ],
   "source": [
    "import pandas as pd\n",
    "from sklearn.linear_model import LinearRegression\n",
    "\n",
    "# 주어진 url 주소를 이용해 house prices 데이터를 가져옵니다.\n",
    "df = pd.read_csv('https://ds-lecture-data.s3.ap-northeast-2.amazonaws.com/house-prices/house_prices_train.csv')\n",
    "df_t = pd.read_csv('https://ds-lecture-data.s3.ap-northeast-2.amazonaws.com/house-prices/house_prices_test.csv')\n",
    "\n",
    "## 예측모델 인스턴스를 만듭니다\n",
    "model = LinearRegression()\n",
    "\n",
    "## X 특성들의 테이블과, y 타겟 벡터를 만듭니다\n",
    "feature = ['GrLivArea']\n",
    "target = ['SalePrice']\n",
    "X_train = df[feature]\n",
    "y_train = df[target]\n",
    "\n",
    "## 모델을 학습(fit)합니다\n",
    "model.fit(X_train, y_train)\n",
    "\n",
    "## 새로운 데이터 한 샘플을 선택해 학습한 모델을 통해 예측해 봅니다\n",
    "X_test = [[4000]]\n",
    "y_pred = model.predict(X_test)\n",
    "\n",
    "print(f'{X_test[0][0]} sqft GrLivArea를 가지는 주택의 예상 가격은 ${int(y_pred)} 입니다.')\n",
    "\n",
    "# 출력 예시\n",
    "# 4000 sqft GrLivArea를 가지는 주택의 예상 가격은 $447090 입니다."
   ]
  },
  {
   "cell_type": "code",
   "execution_count": 53,
   "metadata": {},
   "outputs": [],
   "source": [
    "import pickle\n",
    "\n",
    "with open('model.pkl','wb') as pickle_file:\n",
    "    pickle.dump(model, pickle_file)"
   ]
  },
  {
   "cell_type": "code",
   "execution_count": 54,
   "metadata": {},
   "outputs": [
    {
     "name": "stdout",
     "output_type": "stream",
     "text": [
      "4000 sqft GrLivArea를 가지는 주택의 예상 가격은 $447090 입니다.\n"
     ]
    },
    {
     "name": "stderr",
     "output_type": "stream",
     "text": [
      "c:\\Users\\leeyeonjun85\\.conda\\envs\\p3.8\\lib\\site-packages\\sklearn\\base.py:439: UserWarning: X does not have valid feature names, but LinearRegression was fitted with feature names\n",
      "  warnings.warn(\n"
     ]
    }
   ],
   "source": [
    "import pickle\n",
    "\n",
    "model = None\n",
    "with open('model.pkl','rb') as pickle_file:\n",
    "   model = pickle.load(pickle_file)\n",
    "\n",
    "X_test = [[4000]]\n",
    "y_pred = model.predict(X_test)\n",
    "\n",
    "print(f'{X_test[0][0]} sqft GrLivArea를 가지는 주택의 예상 가격은 ${int(y_pred)} 입니다.')"
   ]
  }
 ],
 "metadata": {
  "kernelspec": {
   "display_name": "p3.8",
   "language": "python",
   "name": "python3"
  },
  "language_info": {
   "codemirror_mode": {
    "name": "ipython",
    "version": 3
   },
   "file_extension": ".py",
   "mimetype": "text/x-python",
   "name": "python",
   "nbconvert_exporter": "python",
   "pygments_lexer": "ipython3",
   "version": "3.8.16"
  },
  "orig_nbformat": 4
 },
 "nbformat": 4,
 "nbformat_minor": 2
}
